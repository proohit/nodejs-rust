{
 "metadata": {
  "language_info": {
   "codemirror_mode": {
    "name": "ipython",
    "version": 3
   },
   "file_extension": ".py",
   "mimetype": "text/x-python",
   "name": "python",
   "nbconvert_exporter": "python",
   "pygments_lexer": "ipython3",
   "version": "3.8.5"
  },
  "orig_nbformat": 2,
  "kernelspec": {
   "name": "python385jvsc74a57bd09798d9d066e6aa1453afdb369ea47e5513d4438af31d6cdedc1009fe16ed6692",
   "display_name": "Python 3.8.5 32-bit"
  }
 },
 "nbformat": 4,
 "nbformat_minor": 2,
 "cells": [
  {
   "cell_type": "code",
   "execution_count": 1,
   "metadata": {},
   "outputs": [],
   "source": [
    "import pandas\n",
    "import os\n",
    "\n",
    "data_path = 'perf-data'\n",
    "devices = ['3b+', '3b.']\n",
    "runtimes = ['go', 'js', 'py','native']"
   ]
  },
  {
   "cell_type": "code",
   "execution_count": 2,
   "metadata": {},
   "outputs": [],
   "source": [
    "flat_files = []\n",
    "iterations = os.listdir(data_path)\n",
    "\n",
    "for it in iterations:\n",
    "    it_files = os.listdir(f\"{data_path}/{it}\")\n",
    "    for it_file in it_files:\n",
    "        flat_files.append(f\"{data_path}/{it}/{it_file}\")"
   ]
  },
  {
   "cell_type": "code",
   "execution_count": 3,
   "metadata": {},
   "outputs": [],
   "source": [
    "runtime_device_files_total = {}\n",
    "for device in devices:\n",
    "    runtime_device_files_total[device] = {}\n",
    "    device_files = list(filter(lambda file: device in file, flat_files))\n",
    "    for runtime in runtimes:\n",
    "        runtime_device_files = list(filter(lambda file: runtime in file, device_files))\n",
    "        runtime_device_files_total[device][runtime] = runtime_device_files"
   ]
  },
  {
   "cell_type": "code",
   "execution_count": 4,
   "metadata": {},
   "outputs": [],
   "source": [
    "def getConcatData(files):    \n",
    "    runtime_data = pandas.DataFrame()\n",
    "    for file in files:\n",
    "        data = pandas.read_csv(file)\n",
    "        runtime_data = runtime_data.append(data, ignore_index=True)\n",
    "    return runtime_data\n",
    "\n",
    "runtime_device_data = {}\n",
    "for device in runtime_device_files_total.keys():\n",
    "    runtime_device_data[device] = {}\n",
    "    for runtime in runtime_device_files_total[device].keys():\n",
    "        runtime_device_data[device][runtime] = getConcatData(runtime_device_files_total[device][runtime])"
   ]
  },
  {
   "cell_type": "code",
   "execution_count": 5,
   "metadata": {},
   "outputs": [],
   "source": [
    "def pretty_print_data(data, unit='ns'):\n",
    "    for device in data.keys():\n",
    "        print(f\"{device}:\")\n",
    "        for runtime in data[device].keys():\n",
    "            converted_data = data[device][runtime]\n",
    "            if unit == 'µs':\n",
    "                converted_data = converted_data / 1000\n",
    "            if unit == 'ms':\n",
    "                converted_data = converted_data / 1000000\n",
    "            if unit == 's':\n",
    "                converted_data = converted_data / 1000000000\n",
    "            print(f\"\\t{runtime}: {converted_data}\")"
   ]
  },
  {
   "source": [
    "## Visualize time per execution"
   ],
   "cell_type": "markdown",
   "metadata": {}
  },
  {
   "cell_type": "code",
   "execution_count": 12,
   "metadata": {},
   "outputs": [
    {
     "output_type": "error",
     "ename": "TypeError",
     "evalue": "'int' object is not iterable",
     "traceback": [
      "\u001b[1;31m---------------------------------------------------------------------------\u001b[0m",
      "\u001b[1;31mTypeError\u001b[0m                                 Traceback (most recent call last)",
      "\u001b[1;32m<ipython-input-12-3346c07f82c0>\u001b[0m in \u001b[0;36m<module>\u001b[1;34m\u001b[0m\n\u001b[0;32m     11\u001b[0m         \u001b[0maxes\u001b[0m\u001b[1;33m[\u001b[0m\u001b[0midx_runtime\u001b[0m\u001b[1;33m,\u001b[0m \u001b[0midx_it\u001b[0m\u001b[1;33m]\u001b[0m\u001b[1;33m.\u001b[0m\u001b[0mscatter\u001b[0m\u001b[1;33m(\u001b[0m\u001b[0mdate\u001b[0m\u001b[1;33m.\u001b[0m\u001b[0mindex\u001b[0m\u001b[1;33m.\u001b[0m\u001b[0mvalues\u001b[0m\u001b[1;33m.\u001b[0m\u001b[0mtolist\u001b[0m\u001b[1;33m(\u001b[0m\u001b[1;33m)\u001b[0m\u001b[1;33m,\u001b[0m \u001b[0mdate\u001b[0m\u001b[1;33m[\u001b[0m\u001b[1;34m'time (ns)'\u001b[0m\u001b[1;33m]\u001b[0m\u001b[1;33m)\u001b[0m\u001b[1;33m\u001b[0m\u001b[1;33m\u001b[0m\u001b[0m\n\u001b[0;32m     12\u001b[0m \u001b[1;33m\u001b[0m\u001b[0m\n\u001b[1;32m---> 13\u001b[1;33m \u001b[1;32mfor\u001b[0m \u001b[0max\u001b[0m\u001b[1;33m,\u001b[0m \u001b[0mcol\u001b[0m \u001b[1;32min\u001b[0m \u001b[0mzip\u001b[0m\u001b[1;33m(\u001b[0m\u001b[0maxes\u001b[0m\u001b[1;33m[\u001b[0m\u001b[1;36m0\u001b[0m\u001b[1;33m]\u001b[0m\u001b[1;33m,\u001b[0m \u001b[0mcols\u001b[0m\u001b[1;33m)\u001b[0m\u001b[1;33m:\u001b[0m\u001b[1;33m\u001b[0m\u001b[1;33m\u001b[0m\u001b[0m\n\u001b[0m\u001b[0;32m     14\u001b[0m     \u001b[0max\u001b[0m\u001b[1;33m.\u001b[0m\u001b[0mset_title\u001b[0m\u001b[1;33m(\u001b[0m\u001b[0mcol\u001b[0m\u001b[1;33m)\u001b[0m\u001b[1;33m\u001b[0m\u001b[1;33m\u001b[0m\u001b[0m\n\u001b[0;32m     15\u001b[0m \u001b[1;33m\u001b[0m\u001b[0m\n",
      "\u001b[1;31mTypeError\u001b[0m: 'int' object is not iterable"
     ]
    }
   ],
   "source": [
    "import matplotlib.pyplot as plt\n",
    "cols = len(iterations)\n",
    "rows = len(runtimes)\n",
    "cols_headers = ['Iteration {}'.format(col) for col in range(cols)]\n",
    "rows_headers = runtimes[::]\n",
    "fig, axes = plt.subplots(nrows=rows, ncols=cols, figsize=(12, 8))\n",
    "device = '3b+'\n",
    "for idx_runtime, runtime in enumerate(runtimes):\n",
    "    for idx_it, it in enumerate(iterations):\n",
    "        date = pandas.read_csv(runtime_device_files_total[device][runtime][idx_it])\n",
    "        axes[idx_runtime, idx_it].scatter(date.index.values.tolist(), date['time (ns)'])\n",
    "\n",
    "for ax, col in zip(axes[0], cols_headers):\n",
    "    ax.set_title(col)\n",
    "\n",
    "for ax, row in zip(axes[:,0], rows_headers):\n",
    "    ax.set_ylabel(row, rotation=0, size='large')\n",
    "fig.tight_layout()\n",
    "plt.show()"
   ]
  },
  {
   "source": [
    "## Data time means (ns)"
   ],
   "cell_type": "markdown",
   "metadata": {}
  },
  {
   "cell_type": "code",
   "execution_count": 39,
   "metadata": {},
   "outputs": [
    {
     "output_type": "stream",
     "name": "stdout",
     "text": [
      "3b+:\n\tgo: 4570250.479177778\n\tjs: 8247462.980244445\n\tpy: 3261947.1746444446\n\tnative: 42683.48628888889\n3b.:\n\tgo: 5151524.89388\n\tjs: 8958540.465733333\n\tpy: 3575884.898853333\n\tnative: 49824.13672888889\n3b+:\n\tgo: 107.073036355221\n\tjs: 193.22374288792278\n\tpy: 76.42176069140761\n3b.:\n\tgo: 103.39416259053934\n\tjs: 179.8032249806953\n\tpy: 71.77013258274827\n"
     ]
    }
   ],
   "source": [
    "time_field = 'time (ns)'\n",
    "runtime_device_data_means = {}\n",
    "for device in runtime_device_data.keys():\n",
    "    runtime_device_data_means[device] = {}\n",
    "    for runtime in runtime_device_data[device].keys():\n",
    "        runtime_device_data_means[device][runtime] = runtime_device_data[device][runtime][time_field].mean()\n",
    "pretty_print_data(runtime_device_data_means, 'ns')\n",
    "\n",
    "delta_means_rel = {}\n",
    "for device in runtime_device_data_means.keys():\n",
    "    delta_means_rel[device] = {}\n",
    "    for runtime in runtime_device_data_means[device].keys():\n",
    "        if runtime == 'native':\n",
    "            continue\n",
    "        delta_means_rel[device][runtime] = runtime_device_data_means[device][runtime] / runtime_device_data_means[device]['native']\n",
    "pretty_print_data(delta_means_rel)"
   ]
  },
  {
   "source": [
    "## Data time standard deviations (ns)"
   ],
   "cell_type": "markdown",
   "metadata": {}
  },
  {
   "cell_type": "code",
   "execution_count": 34,
   "metadata": {},
   "outputs": [
    {
     "output_type": "stream",
     "name": "stdout",
     "text": [
      "3b+:\n\tgo: 2.524160953178403\n\tjs: 5.81342464970086\n\tpy: 1.4528913005266697\n\tnative: 0.014889705254302422\n3b.:\n\tgo: 2.845189445467819\n\tjs: 6.368635902409733\n\tpy: 1.5940647578133609\n\tnative: 0.0182328473309366\n"
     ]
    }
   ],
   "source": [
    "\n",
    "time_field = 'time (ns)'\n",
    "runtime_device_data_stds = {}\n",
    "for device in runtime_device_data.keys():\n",
    "    runtime_device_data_stds[device] = {}\n",
    "    for runtime in runtime_device_data[device].keys():\n",
    "        runtime_device_data_stds[device][runtime] = runtime_device_data[device][runtime][time_field].std()\n",
    "pretty_print_data(runtime_device_data_stds, 'ms')"
   ]
  },
  {
   "cell_type": "code",
   "execution_count": 25,
   "metadata": {},
   "outputs": [
    {
     "output_type": "execute_result",
     "data": {
      "text/plain": [
       "0.39218"
      ]
     },
     "metadata": {},
     "execution_count": 25
    }
   ],
   "source": [
    "# time.apply(lambda date: date/1000000).max()"
   ]
  },
  {
   "cell_type": "code",
   "execution_count": null,
   "metadata": {},
   "outputs": [],
   "source": []
  }
 ]
}